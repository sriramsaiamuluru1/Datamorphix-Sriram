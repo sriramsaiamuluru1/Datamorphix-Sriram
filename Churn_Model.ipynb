{
 "cells": [
  {
   "cell_type": "code",
   "execution_count": 22,
   "metadata": {},
   "outputs": [],
   "source": [
    "# Importing the libraries\n",
    "import numpy as np\n",
    "import matplotlib.pyplot as plt\n",
    "import pandas as pd\n",
    "# Importing the dataset\n",
    "dataset = pd.read_csv('data_set_anonymized.csv')"
   ]
  },
  {
   "cell_type": "code",
   "execution_count": 23,
   "metadata": {},
   "outputs": [],
   "source": [
    "X = dataset.iloc[:, 2:11].values\n",
    "y = dataset.iloc[:, 11].values"
   ]
  },
  {
   "cell_type": "code",
   "execution_count": 24,
   "metadata": {},
   "outputs": [],
   "source": [
    "# Splitting the dataset into the Training set and Test set\n",
    "from sklearn.model_selection import train_test_split\n",
    "X_train, X_test, y_train, y_test = train_test_split(X, y, test_size = 0.2)"
   ]
  },
  {
   "cell_type": "code",
   "execution_count": 25,
   "metadata": {},
   "outputs": [],
   "source": [
    "# Feature Scaling\n",
    "from sklearn.preprocessing import StandardScaler\n",
    "sc = StandardScaler()\n",
    "X_train = sc.fit_transform(X_train)\n",
    "X_test = sc.transform(X_test)"
   ]
  },
  {
   "cell_type": "code",
   "execution_count": 26,
   "metadata": {},
   "outputs": [],
   "source": [
    "# Importing the Keras libraries and packages\n",
    "import keras\n",
    "from keras.models import Sequential\n",
    "from keras.layers import Dense"
   ]
  },
  {
   "cell_type": "code",
   "execution_count": 27,
   "metadata": {},
   "outputs": [],
   "source": [
    "#Initializing Neural Network\n",
    "classifier = Sequential()"
   ]
  },
  {
   "cell_type": "code",
   "execution_count": 28,
   "metadata": {},
   "outputs": [
    {
     "name": "stderr",
     "output_type": "stream",
     "text": [
      "C:\\ProgramData\\Anaconda3\\lib\\site-packages\\ipykernel_launcher.py:2: UserWarning: Update your `Dense` call to the Keras 2 API: `Dense(activation=\"relu\", input_dim=9, units=5, kernel_initializer=\"uniform\")`\n",
      "  \n",
      "C:\\ProgramData\\Anaconda3\\lib\\site-packages\\ipykernel_launcher.py:4: UserWarning: Update your `Dense` call to the Keras 2 API: `Dense(activation=\"relu\", units=5, kernel_initializer=\"uniform\")`\n",
      "  after removing the cwd from sys.path.\n",
      "C:\\ProgramData\\Anaconda3\\lib\\site-packages\\ipykernel_launcher.py:6: UserWarning: Update your `Dense` call to the Keras 2 API: `Dense(activation=\"sigmoid\", units=1, kernel_initializer=\"uniform\")`\n",
      "  \n"
     ]
    }
   ],
   "source": [
    "# Adding the input layer and the first hidden layer\n",
    "classifier.add(Dense(output_dim = 5, init = 'uniform', activation = 'relu', input_dim = 9))\n",
    "# Adding the second hidden layer\n",
    "classifier.add(Dense(output_dim = 5, init = 'uniform', activation = 'relu'))\n",
    "# Adding the output layer\n",
    "classifier.add(Dense(output_dim = 1, init = 'uniform', activation = 'sigmoid'))"
   ]
  },
  {
   "cell_type": "code",
   "execution_count": 29,
   "metadata": {},
   "outputs": [],
   "source": [
    "# Compiling Neural Network\n",
    "classifier.compile(optimizer = 'adam', loss = 'binary_crossentropy', metrics = ['accuracy'])"
   ]
  },
  {
   "cell_type": "code",
   "execution_count": 30,
   "metadata": {},
   "outputs": [
    {
     "name": "stderr",
     "output_type": "stream",
     "text": [
      "C:\\ProgramData\\Anaconda3\\lib\\site-packages\\keras\\models.py:942: UserWarning: The `nb_epoch` argument in `fit` has been renamed `epochs`.\n",
      "  warnings.warn('The `nb_epoch` argument in `fit` '\n"
     ]
    },
    {
     "name": "stdout",
     "output_type": "stream",
     "text": [
      "Epoch 1/100\n",
      "42268/42268 [==============================] - 4s 97us/step - loss: 0.1385 - acc: 0.9443\n",
      "Epoch 2/100\n",
      "42268/42268 [==============================] - 4s 88us/step - loss: 0.0595 - acc: 0.9731\n",
      "Epoch 3/100\n",
      "42268/42268 [==============================] - 4s 87us/step - loss: 0.0491 - acc: 0.9821\n",
      "Epoch 4/100\n",
      "42268/42268 [==============================] - 4s 86us/step - loss: 0.0403 - acc: 0.9895\n",
      "Epoch 5/100\n",
      "42268/42268 [==============================] - 4s 88us/step - loss: 0.0317 - acc: 0.9938\n",
      "Epoch 6/100\n",
      "42268/42268 [==============================] - 4s 90us/step - loss: 0.0251 - acc: 0.9951\n",
      "Epoch 7/100\n",
      "42268/42268 [==============================] - 4s 85us/step - loss: 0.0198 - acc: 0.9964\n",
      "Epoch 8/100\n",
      "42268/42268 [==============================] - 4s 87us/step - loss: 0.0162 - acc: 0.9966\n",
      "Epoch 9/100\n",
      "42268/42268 [==============================] - 4s 87us/step - loss: 0.0140 - acc: 0.9968\n",
      "Epoch 10/100\n",
      "42268/42268 [==============================] - 3s 81us/step - loss: 0.0121 - acc: 0.9969\n",
      "Epoch 11/100\n",
      "42268/42268 [==============================] - 3s 82us/step - loss: 0.0117 - acc: 0.9970\n",
      "Epoch 12/100\n",
      "42268/42268 [==============================] - 4s 88us/step - loss: 0.0108 - acc: 0.9969\n",
      "Epoch 13/100\n",
      "42268/42268 [==============================] - 4s 93us/step - loss: 0.0116 - acc: 0.9967\n",
      "Epoch 14/100\n",
      "42268/42268 [==============================] - 4s 92us/step - loss: 0.0095 - acc: 0.9975\n",
      "Epoch 15/100\n",
      "42268/42268 [==============================] - 4s 92us/step - loss: 0.0098 - acc: 0.9974\n",
      "Epoch 16/100\n",
      "42268/42268 [==============================] - 4s 92us/step - loss: 0.0078 - acc: 0.9976\n",
      "Epoch 17/100\n",
      "42268/42268 [==============================] - 4s 92us/step - loss: 0.0083 - acc: 0.9978\n",
      "Epoch 18/100\n",
      "42268/42268 [==============================] - 4s 93us/step - loss: 0.0092 - acc: 0.9972\n",
      "Epoch 19/100\n",
      "42268/42268 [==============================] - 4s 85us/step - loss: 0.0087 - acc: 0.9974\n",
      "Epoch 20/100\n",
      "42268/42268 [==============================] - 3s 81us/step - loss: 0.0084 - acc: 0.9974\n",
      "Epoch 21/100\n",
      "42268/42268 [==============================] - 4s 88us/step - loss: 0.0083 - acc: 0.9978\n",
      "Epoch 22/100\n",
      "42268/42268 [==============================] - 4s 87us/step - loss: 0.0075 - acc: 0.9976\n",
      "Epoch 23/100\n",
      "42268/42268 [==============================] - 4s 91us/step - loss: 0.0073 - acc: 0.9981\n",
      "Epoch 24/100\n",
      "42268/42268 [==============================] - 4s 83us/step - loss: 0.0075 - acc: 0.9978\n",
      "Epoch 25/100\n",
      "42268/42268 [==============================] - 3s 80us/step - loss: 0.0077 - acc: 0.9978\n",
      "Epoch 26/100\n",
      "42268/42268 [==============================] - 4s 85us/step - loss: 0.0095 - acc: 0.9975\n",
      "Epoch 27/100\n",
      "42268/42268 [==============================] - 4s 83us/step - loss: 0.0076 - acc: 0.9978\n",
      "Epoch 28/100\n",
      "42268/42268 [==============================] - 4s 88us/step - loss: 0.0060 - acc: 0.9983\n",
      "Epoch 29/100\n",
      "42268/42268 [==============================] - 4s 92us/step - loss: 0.0072 - acc: 0.9979\n",
      "Epoch 30/100\n",
      "42268/42268 [==============================] - 3s 81us/step - loss: 0.0079 - acc: 0.9976\n",
      "Epoch 31/100\n",
      "42268/42268 [==============================] - 4s 87us/step - loss: 0.0068 - acc: 0.9982\n",
      "Epoch 32/100\n",
      "42268/42268 [==============================] - 4s 90us/step - loss: 0.0072 - acc: 0.9976\n",
      "Epoch 33/100\n",
      "42268/42268 [==============================] - 4s 89us/step - loss: 0.0071 - acc: 0.9979\n",
      "Epoch 34/100\n",
      "42268/42268 [==============================] - 4s 91us/step - loss: 0.0086 - acc: 0.9975\n",
      "Epoch 35/100\n",
      "42268/42268 [==============================] - 4s 91us/step - loss: 0.0072 - acc: 0.9981\n",
      "Epoch 36/100\n",
      "42268/42268 [==============================] - 4s 87us/step - loss: 0.0059 - acc: 0.9982\n",
      "Epoch 37/100\n",
      "42268/42268 [==============================] - 4s 87us/step - loss: 0.0073 - acc: 0.9979\n",
      "Epoch 38/100\n",
      "42268/42268 [==============================] - 4s 90us/step - loss: 0.0082 - acc: 0.9979\n",
      "Epoch 39/100\n",
      "42268/42268 [==============================] - 4s 96us/step - loss: 0.0073 - acc: 0.9980\n",
      "Epoch 40/100\n",
      "42268/42268 [==============================] - 4s 104us/step - loss: 0.0074 - acc: 0.9977\n",
      "Epoch 41/100\n",
      "42268/42268 [==============================] - 4s 87us/step - loss: 0.0085 - acc: 0.9980\n",
      "Epoch 42/100\n",
      "42268/42268 [==============================] - 4s 87us/step - loss: 0.0069 - acc: 0.9982\n",
      "Epoch 43/100\n",
      "42268/42268 [==============================] - 4s 86us/step - loss: 0.0065 - acc: 0.9983\n",
      "Epoch 44/100\n",
      "42268/42268 [==============================] - 4s 84us/step - loss: 0.0053 - acc: 0.9982\n",
      "Epoch 45/100\n",
      "42268/42268 [==============================] - 4s 88us/step - loss: 0.0082 - acc: 0.9978\n",
      "Epoch 46/100\n",
      "42268/42268 [==============================] - 4s 87us/step - loss: 0.0067 - acc: 0.9982\n",
      "Epoch 47/100\n",
      "42268/42268 [==============================] - 4s 88us/step - loss: 0.0059 - acc: 0.9982\n",
      "Epoch 48/100\n",
      "42268/42268 [==============================] - 4s 87us/step - loss: 0.0065 - acc: 0.9982\n",
      "Epoch 49/100\n",
      "42268/42268 [==============================] - 4s 87us/step - loss: 0.0066 - acc: 0.9981\n",
      "Epoch 50/100\n",
      "42268/42268 [==============================] - 4s 86us/step - loss: 0.0066 - acc: 0.9982\n",
      "Epoch 51/100\n",
      "42268/42268 [==============================] - 4s 84us/step - loss: 0.0070 - acc: 0.9977\n",
      "Epoch 52/100\n",
      "42268/42268 [==============================] - 4s 84us/step - loss: 0.0060 - acc: 0.9984\n",
      "Epoch 53/100\n",
      "42268/42268 [==============================] - 4s 89us/step - loss: 0.0066 - acc: 0.9981\n",
      "Epoch 54/100\n",
      "42268/42268 [==============================] - 4s 87us/step - loss: 0.0062 - acc: 0.9984\n",
      "Epoch 55/100\n",
      "42268/42268 [==============================] - 4s 87us/step - loss: 0.0062 - acc: 0.9981\n",
      "Epoch 56/100\n",
      "42268/42268 [==============================] - 4s 89us/step - loss: 0.0059 - acc: 0.9981\n",
      "Epoch 57/100\n",
      "42268/42268 [==============================] - 4s 86us/step - loss: 0.0073 - acc: 0.9980\n",
      "Epoch 58/100\n",
      "42268/42268 [==============================] - 4s 87us/step - loss: 0.0056 - acc: 0.9984\n",
      "Epoch 59/100\n",
      "42268/42268 [==============================] - 4s 90us/step - loss: 0.0068 - acc: 0.9984\n",
      "Epoch 60/100\n",
      "42268/42268 [==============================] - 4s 92us/step - loss: 0.0081 - acc: 0.9977\n",
      "Epoch 61/100\n",
      "42268/42268 [==============================] - 4s 92us/step - loss: 0.0044 - acc: 0.9988\n",
      "Epoch 62/100\n",
      "42268/42268 [==============================] - 4s 92us/step - loss: 0.0061 - acc: 0.9982\n",
      "Epoch 63/100\n",
      "42268/42268 [==============================] - 4s 89us/step - loss: 0.0064 - acc: 0.9982\n",
      "Epoch 64/100\n",
      "42268/42268 [==============================] - 4s 88us/step - loss: 0.0070 - acc: 0.9981\n",
      "Epoch 65/100\n",
      "42268/42268 [==============================] - 4s 86us/step - loss: 0.0064 - acc: 0.9980\n",
      "Epoch 66/100\n",
      "42268/42268 [==============================] - 4s 88us/step - loss: 0.0058 - acc: 0.9982\n",
      "Epoch 67/100\n",
      "42268/42268 [==============================] - 4s 87us/step - loss: 0.0048 - acc: 0.9985\n",
      "Epoch 68/100\n",
      "42268/42268 [==============================] - 4s 83us/step - loss: 0.0070 - acc: 0.9980\n",
      "Epoch 69/100\n",
      "42268/42268 [==============================] - 4s 86us/step - loss: 0.0039 - acc: 0.9989\n",
      "Epoch 70/100\n",
      "42268/42268 [==============================] - 4s 89us/step - loss: 0.0079 - acc: 0.9981\n",
      "Epoch 71/100\n",
      "42268/42268 [==============================] - 3s 82us/step - loss: 0.0055 - acc: 0.9986\n",
      "Epoch 72/100\n",
      "42268/42268 [==============================] - 3s 82us/step - loss: 0.0046 - acc: 0.9986\n",
      "Epoch 73/100\n",
      "42268/42268 [==============================] - 4s 83us/step - loss: 0.0058 - acc: 0.9985\n",
      "Epoch 74/100\n",
      "42268/42268 [==============================] - 4s 87us/step - loss: 0.0060 - acc: 0.9981\n",
      "Epoch 75/100\n",
      "42268/42268 [==============================] - 4s 87us/step - loss: 0.0041 - acc: 0.9989\n",
      "Epoch 76/100\n",
      "42268/42268 [==============================] - 4s 87us/step - loss: 0.0043 - acc: 0.9986\n",
      "Epoch 77/100\n",
      "42268/42268 [==============================] - 4s 87us/step - loss: 0.0068 - acc: 0.9980\n",
      "Epoch 78/100\n",
      "42268/42268 [==============================] - 4s 86us/step - loss: 0.0035 - acc: 0.9990\n",
      "Epoch 79/100\n",
      "42268/42268 [==============================] - 4s 87us/step - loss: 0.0072 - acc: 0.9980\n",
      "Epoch 80/100\n",
      "42268/42268 [==============================] - 4s 86us/step - loss: 0.0041 - acc: 0.9989\n",
      "Epoch 81/100\n"
     ]
    },
    {
     "name": "stdout",
     "output_type": "stream",
     "text": [
      "42268/42268 [==============================] - 4s 88us/step - loss: 0.0062 - acc: 0.9983\n",
      "Epoch 82/100\n",
      "42268/42268 [==============================] - 4s 92us/step - loss: 0.0052 - acc: 0.9987\n",
      "Epoch 83/100\n",
      "42268/42268 [==============================] - 4s 91us/step - loss: 0.0050 - acc: 0.9987\n",
      "Epoch 84/100\n",
      "42268/42268 [==============================] - 4s 90us/step - loss: 0.0038 - acc: 0.9989\n",
      "Epoch 85/100\n",
      "42268/42268 [==============================] - 4s 88us/step - loss: 0.0057 - acc: 0.9983\n",
      "Epoch 86/100\n",
      "42268/42268 [==============================] - 4s 92us/step - loss: 0.0055 - acc: 0.9986\n",
      "Epoch 87/100\n",
      "42268/42268 [==============================] - 4s 93us/step - loss: 0.0035 - acc: 0.9991\n",
      "Epoch 88/100\n",
      "42268/42268 [==============================] - 4s 86us/step - loss: 0.0067 - acc: 0.9983\n",
      "Epoch 89/100\n",
      "42268/42268 [==============================] - 4s 85us/step - loss: 0.0058 - acc: 0.9986\n",
      "Epoch 90/100\n",
      "42268/42268 [==============================] - 4s 85us/step - loss: 0.0039 - acc: 0.9990\n",
      "Epoch 91/100\n",
      "42268/42268 [==============================] - 4s 87us/step - loss: 0.0061 - acc: 0.9985\n",
      "Epoch 92/100\n",
      "42268/42268 [==============================] - 4s 83us/step - loss: 0.0039 - acc: 0.9989\n",
      "Epoch 93/100\n",
      "42268/42268 [==============================] - 3s 80us/step - loss: 0.0037 - acc: 0.9990\n",
      "Epoch 94/100\n",
      "42268/42268 [==============================] - 3s 80us/step - loss: 0.0045 - acc: 0.9990\n",
      "Epoch 95/100\n",
      "42268/42268 [==============================] - 4s 85us/step - loss: 0.0052 - acc: 0.9986\n",
      "Epoch 96/100\n",
      "42268/42268 [==============================] - 4s 93us/step - loss: 0.0052 - acc: 0.9985\n",
      "Epoch 97/100\n",
      "42268/42268 [==============================] - 4s 92us/step - loss: 0.0045 - acc: 0.9988\n",
      "Epoch 98/100\n",
      "42268/42268 [==============================] - 4s 93us/step - loss: 0.0041 - acc: 0.9990\n",
      "Epoch 99/100\n",
      "42268/42268 [==============================] - 4s 93us/step - loss: 0.0054 - acc: 0.9985\n",
      "Epoch 100/100\n",
      "42268/42268 [==============================] - 4s 91us/step - loss: 0.0062 - acc: 0.9986\n"
     ]
    },
    {
     "data": {
      "text/plain": [
       "<keras.callbacks.History at 0x1ff58382710>"
      ]
     },
     "execution_count": 30,
     "metadata": {},
     "output_type": "execute_result"
    }
   ],
   "source": [
    " #Fitting our model \n",
    "classifier.fit(X_train, y_train, batch_size = 10, nb_epoch = 100)"
   ]
  },
  {
   "cell_type": "code",
   "execution_count": 31,
   "metadata": {},
   "outputs": [],
   "source": [
    "# Predicting the Test set results\n",
    "y_pred = classifier.predict(X_test)\n",
    "y_pred = (y_pred > 0.5)"
   ]
  },
  {
   "cell_type": "code",
   "execution_count": 32,
   "metadata": {},
   "outputs": [],
   "source": [
    "# Creating the Confusion Matrix\n",
    "from sklearn.metrics import confusion_matrix\n",
    "cm = confusion_matrix(y_test, y_pred)"
   ]
  },
  {
   "cell_type": "code",
   "execution_count": 33,
   "metadata": {},
   "outputs": [
    {
     "name": "stdout",
     "output_type": "stream",
     "text": [
      "[[6759    0]\n",
      " [  32 3777]]\n"
     ]
    }
   ],
   "source": [
    "print(cm)"
   ]
  },
  {
   "cell_type": "code",
   "execution_count": null,
   "metadata": {},
   "outputs": [],
   "source": []
  }
 ],
 "metadata": {
  "kernelspec": {
   "display_name": "Python 3",
   "language": "python",
   "name": "python3"
  },
  "language_info": {
   "codemirror_mode": {
    "name": "ipython",
    "version": 3
   },
   "file_extension": ".py",
   "mimetype": "text/x-python",
   "name": "python",
   "nbconvert_exporter": "python",
   "pygments_lexer": "ipython3",
   "version": "3.6.4"
  }
 },
 "nbformat": 4,
 "nbformat_minor": 2
}
